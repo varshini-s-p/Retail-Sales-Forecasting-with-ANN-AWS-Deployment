{
 "cells": [
  {
   "cell_type": "code",
   "execution_count": 1,
   "id": "9faaf569",
   "metadata": {},
   "outputs": [],
   "source": [
    "#Import Libraries\n",
    "import pandas as pd\n",
    "import numpy as np\n",
    "from tensorflow.keras.models import load_model\n",
    "import joblib\n",
    "from sklearn.metrics import mean_absolute_error, mean_squared_error, r2_score\n"
   ]
  },
  {
   "cell_type": "code",
   "execution_count": 4,
   "id": "8a101bc9",
   "metadata": {},
   "outputs": [],
   "source": [
    "#Load Cleaned Data\n",
    "df = pd.read_csv(\"../data/processed_data/featured_data.csv\")\n"
   ]
  },
  {
   "cell_type": "code",
   "execution_count": 5,
   "id": "c1516b0e",
   "metadata": {},
   "outputs": [],
   "source": [
    "#Separate Features and Target\n",
    "# Target column\n",
    "target = \"Weekly_Sales\"\n",
    "\n",
    "# Load feature columns from saved file\n",
    "with open(\"../models/feature_columns.pkl\", \"rb\") as f:\n",
    "    feature_columns = joblib.load(f)\n",
    "\n",
    "# Input and output\n",
    "X = df[feature_columns]\n",
    "y = df[target]\n"
   ]
  },
  {
   "cell_type": "code",
   "execution_count": 7,
   "id": "bc931542",
   "metadata": {},
   "outputs": [
    {
     "name": "stderr",
     "output_type": "stream",
     "text": [
      "WARNING:absl:Compiled the loaded model, but the compiled metrics have yet to be built. `model.compile_metrics` will be empty until you train or evaluate the model.\n"
     ]
    }
   ],
   "source": [
    "# Load scaler and scale features\n",
    "scaler = joblib.load(\"../models/scaler.pkl\")\n",
    "X_scaled = scaler.transform(X)\n",
    "\n",
    "# Load model\n",
    "model = load_model(\"../models/retail_sales_ann_model.h5\")"
   ]
  },
  {
   "cell_type": "code",
   "execution_count": 8,
   "id": "9d80f748",
   "metadata": {},
   "outputs": [
    {
     "name": "stdout",
     "output_type": "stream",
     "text": [
      "\u001b[1m12968/12968\u001b[0m \u001b[32m━━━━━━━━━━━━━━━━━━━━\u001b[0m\u001b[37m\u001b[0m \u001b[1m13s\u001b[0m 952us/step\n",
      "MAE: 16000.24\n",
      "MSE: 771423773.13\n",
      "RMSE: 27774.52\n",
      "R² Score: -0.4967\n"
     ]
    }
   ],
   "source": [
    "# Predict\n",
    "y_pred = model.predict(X_scaled).flatten()\n",
    "\n",
    "# Evaluate\n",
    "mae = mean_absolute_error(y, y_pred)\n",
    "mse = mean_squared_error(y, y_pred)\n",
    "rmse = np.sqrt(mse)\n",
    "r2 = r2_score(y, y_pred)\n",
    "\n",
    "print(f\"MAE: {mae:.2f}\")\n",
    "print(f\"MSE: {mse:.2f}\")\n",
    "print(f\"RMSE: {rmse:.2f}\")\n",
    "print(f\"R² Score: {r2:.4f}\")"
   ]
  },
  {
   "cell_type": "code",
   "execution_count": 12,
   "id": "f93464c5",
   "metadata": {},
   "outputs": [],
   "source": [
    "# Save predictions\n",
    "results = pd.DataFrame({\n",
    "    \"Store\": df[\"Store\"],\n",
    "    \"Dept\": df[\"Dept\"],\n",
    "    \"Date\": df[\"Date\"],\n",
    "    \"Actual_Sales\": y,\n",
    "    \"Predicted_Sales\": y_pred\n",
    "})\n",
    "results.to_csv(\"../data/predictions/sales_predictions.csv\", index=False)"
   ]
  }
 ],
 "metadata": {
  "kernelspec": {
   "display_name": "Python 3",
   "language": "python",
   "name": "python3"
  },
  "language_info": {
   "codemirror_mode": {
    "name": "ipython",
    "version": 3
   },
   "file_extension": ".py",
   "mimetype": "text/x-python",
   "name": "python",
   "nbconvert_exporter": "python",
   "pygments_lexer": "ipython3",
   "version": "3.10.0"
  }
 },
 "nbformat": 4,
 "nbformat_minor": 5
}
