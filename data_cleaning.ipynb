{
 "cells": [
  {
   "cell_type": "code",
   "execution_count": 2,
   "id": "f3348d8d",
   "metadata": {},
   "outputs": [],
   "source": [
    "#Import libraries\n",
    "import pandas as pd\n",
    "import numpy as np\n",
    "import os"
   ]
  },
  {
   "cell_type": "code",
   "execution_count": 5,
   "id": "e87e6184",
   "metadata": {},
   "outputs": [],
   "source": [
    "#Load data\n",
    "stores = pd.read_csv(\"../data/raw_data/stores_data_set.csv\")\n",
    "features = pd.read_csv(\"../data/raw_data/features_data_set.csv\")\n",
    "sales = pd.read_csv(\"../data/raw_data/sales_data_set.csv\")"
   ]
  },
  {
   "cell_type": "code",
   "execution_count": 6,
   "id": "76b4c603",
   "metadata": {},
   "outputs": [
    {
     "name": "stdout",
     "output_type": "stream",
     "text": [
      "Stores: (45, 3)\n",
      "Features: (8190, 12)\n",
      "Sales: (421570, 5)\n"
     ]
    }
   ],
   "source": [
    "#Explore structure\n",
    "print(\"Stores:\", stores.shape)\n",
    "print(\"Features:\", features.shape)\n",
    "print(\"Sales:\", sales.shape)"
   ]
  },
  {
   "cell_type": "code",
   "execution_count": 8,
   "id": "ee051afb",
   "metadata": {},
   "outputs": [],
   "source": [
    "#Convert date columns correctly\n",
    "features['Date'] = pd.to_datetime(features['Date'], dayfirst=True)\n",
    "sales['Date'] = pd.to_datetime(sales['Date'], dayfirst=True)"
   ]
  },
  {
   "cell_type": "code",
   "execution_count": 9,
   "id": "77cddfc6",
   "metadata": {},
   "outputs": [],
   "source": [
    "#Merge dataframes\n",
    "df = sales.merge(features, on=['Store', 'Date'], how='left')\n",
    "df = df.merge(stores, on='Store', how='left')"
   ]
  },
  {
   "cell_type": "code",
   "execution_count": 11,
   "id": "7b2fe4a7",
   "metadata": {},
   "outputs": [
    {
     "name": "stdout",
     "output_type": "stream",
     "text": [
      "Missing values after cleaning:\n",
      " Store           0\n",
      "Dept            0\n",
      "Date            0\n",
      "Weekly_Sales    0\n",
      "IsHoliday_x     0\n",
      "Temperature     0\n",
      "Fuel_Price      0\n",
      "MarkDown1       0\n",
      "MarkDown2       0\n",
      "MarkDown3       0\n",
      "MarkDown4       0\n",
      "MarkDown5       0\n",
      "CPI             0\n",
      "Unemployment    0\n",
      "IsHoliday_y     0\n",
      "Type            0\n",
      "Size            0\n",
      "dtype: int64\n"
     ]
    },
    {
     "name": "stderr",
     "output_type": "stream",
     "text": [
      "C:\\Users\\varsh\\AppData\\Local\\Temp\\ipykernel_27548\\2690330319.py:5: FutureWarning: A value is trying to be set on a copy of a DataFrame or Series through chained assignment using an inplace method.\n",
      "The behavior will change in pandas 3.0. This inplace method will never work because the intermediate object on which we are setting values always behaves as a copy.\n",
      "\n",
      "For example, when doing 'df[col].method(value, inplace=True)', try using 'df.method({col: value}, inplace=True)' or df[col] = df[col].method(value) instead, to perform the operation inplace on the original object.\n",
      "\n",
      "\n",
      "  df[col].fillna(0, inplace=True)\n",
      "C:\\Users\\varsh\\AppData\\Local\\Temp\\ipykernel_27548\\2690330319.py:7: FutureWarning: Series.fillna with 'method' is deprecated and will raise in a future version. Use obj.ffill() or obj.bfill() instead.\n",
      "  df['CPI'] = df['CPI'].fillna(method='ffill')\n",
      "C:\\Users\\varsh\\AppData\\Local\\Temp\\ipykernel_27548\\2690330319.py:8: FutureWarning: Series.fillna with 'method' is deprecated and will raise in a future version. Use obj.ffill() or obj.bfill() instead.\n",
      "  df['Unemployment'] = df['Unemployment'].fillna(method='ffill')\n"
     ]
    }
   ],
   "source": [
    "#Handle missing values\n",
    "markdown_cols = ['MarkDown1', 'MarkDown2', 'MarkDown3', 'MarkDown4', 'MarkDown5']\n",
    "for col in markdown_cols:\n",
    "    if col in df.columns:\n",
    "        df[col].fillna(0, inplace=True)\n",
    "\n",
    "df['CPI'] = df['CPI'].fillna(method='ffill')\n",
    "df['Unemployment'] = df['Unemployment'].fillna(method='ffill')\n",
    "print(\"Missing values after cleaning:\\n\", df.isnull().sum())\n"
   ]
  },
  {
   "cell_type": "code",
   "execution_count": 12,
   "id": "c37d9814",
   "metadata": {},
   "outputs": [
    {
     "name": "stdout",
     "output_type": "stream",
     "text": [
      "Cleaned data saved to data/processed_data/cleaned_data.csv\n"
     ]
    }
   ],
   "source": [
    "#Save cleaned and merged data\n",
    "df.to_csv(\"../data/processed_data/cleaned_data.csv\", index=False)\n",
    "print(\"Cleaned data saved to data/processed_data/cleaned_data.csv\")\n"
   ]
  }
 ],
 "metadata": {
  "kernelspec": {
   "display_name": "Python 3",
   "language": "python",
   "name": "python3"
  },
  "language_info": {
   "codemirror_mode": {
    "name": "ipython",
    "version": 3
   },
   "file_extension": ".py",
   "mimetype": "text/x-python",
   "name": "python",
   "nbconvert_exporter": "python",
   "pygments_lexer": "ipython3",
   "version": "3.10.0"
  }
 },
 "nbformat": 4,
 "nbformat_minor": 5
}
