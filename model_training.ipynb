{
 "cells": [
  {
   "cell_type": "code",
   "execution_count": 3,
   "id": "d583503f",
   "metadata": {},
   "outputs": [],
   "source": [
    "import pandas as pd\n",
    "import numpy as np\n",
    "from sklearn.model_selection import train_test_split\n",
    "from sklearn.preprocessing import StandardScaler\n",
    "from sklearn.metrics import mean_absolute_error, mean_squared_error, r2_score\n",
    "import tensorflow as tf\n",
    "from tensorflow.keras.models import Sequential\n",
    "from tensorflow.keras.layers import Dense, Dropout\n",
    "\n",
    "# Load featured dataset\n",
    "df = pd.read_csv(\"../data/processed_data/featured_data.csv\")\n"
   ]
  },
  {
   "cell_type": "code",
   "execution_count": 4,
   "id": "e2bef98a",
   "metadata": {},
   "outputs": [],
   "source": [
    "#Define Features (X) and Target (y)\n",
    "X = df.drop(['Weekly_Sales', 'Date'], axis=1)\n",
    "y = df['Weekly_Sales']\n",
    "\n"
   ]
  },
  {
   "cell_type": "code",
   "execution_count": 5,
   "id": "b3994f3e",
   "metadata": {},
   "outputs": [],
   "source": [
    "#Train-Test Split\n",
    "X_train, X_test, y_train, y_test = train_test_split(X, y, test_size=0.2, random_state=42)\n"
   ]
  },
  {
   "cell_type": "code",
   "execution_count": 6,
   "id": "3b69286f",
   "metadata": {},
   "outputs": [],
   "source": [
    "#Feature Scaling\n",
    "scaler = StandardScaler()\n",
    "X_train_scaled = scaler.fit_transform(X_train)\n",
    "X_test_scaled = scaler.transform(X_test)\n"
   ]
  },
  {
   "cell_type": "code",
   "execution_count": 7,
   "id": "7f332063",
   "metadata": {},
   "outputs": [
    {
     "name": "stderr",
     "output_type": "stream",
     "text": [
      "c:\\Users\\varsh\\AppData\\Local\\Programs\\Python\\Python310\\lib\\site-packages\\keras\\src\\layers\\core\\dense.py:93: UserWarning: Do not pass an `input_shape`/`input_dim` argument to a layer. When using Sequential models, prefer using an `Input(shape)` object as the first layer in the model instead.\n",
      "  super().__init__(activity_regularizer=activity_regularizer, **kwargs)\n"
     ]
    }
   ],
   "source": [
    "#Build the ANN Model\n",
    "model = Sequential()\n",
    "model.add(Dense(128, input_dim=X_train_scaled.shape[1], activation='relu'))\n",
    "model.add(Dropout(0.3))\n",
    "model.add(Dense(64, activation='relu'))\n",
    "model.add(Dropout(0.3))\n",
    "model.add(Dense(32, activation='relu'))\n",
    "model.add(Dense(1))  # Output layer for regression\n"
   ]
  },
  {
   "cell_type": "code",
   "execution_count": 8,
   "id": "76fe07ca",
   "metadata": {},
   "outputs": [],
   "source": [
    "#Compile the Model\n",
    "model.compile(optimizer='adam', loss='mean_squared_error', metrics=['mae'])\n"
   ]
  },
  {
   "cell_type": "code",
   "execution_count": 7,
   "id": "0597628b",
   "metadata": {},
   "outputs": [
    {
     "name": "stdout",
     "output_type": "stream",
     "text": [
      "Epoch 1/50\n",
      "\u001b[1m5106/5106\u001b[0m \u001b[32m━━━━━━━━━━━━━━━━━━━━\u001b[0m\u001b[37m\u001b[0m \u001b[1m24s\u001b[0m 4ms/step - loss: 193219776.0000 - mae: 6177.6191 - val_loss: 39482308.0000 - val_mae: 2288.5371\n",
      "Epoch 2/50\n",
      "\u001b[1m5106/5106\u001b[0m \u001b[32m━━━━━━━━━━━━━━━━━━━━\u001b[0m\u001b[37m\u001b[0m \u001b[1m39s\u001b[0m 8ms/step - loss: 51214184.0000 - mae: 2851.3601 - val_loss: 38332676.0000 - val_mae: 2191.3005\n",
      "Epoch 3/50\n",
      "\u001b[1m5106/5106\u001b[0m \u001b[32m━━━━━━━━━━━━━━━━━━━━\u001b[0m\u001b[37m\u001b[0m \u001b[1m40s\u001b[0m 8ms/step - loss: 51565404.0000 - mae: 2800.3198 - val_loss: 36980584.0000 - val_mae: 2136.7517\n",
      "Epoch 4/50\n",
      "\u001b[1m5106/5106\u001b[0m \u001b[32m━━━━━━━━━━━━━━━━━━━━\u001b[0m\u001b[37m\u001b[0m \u001b[1m40s\u001b[0m 8ms/step - loss: 50061224.0000 - mae: 2775.9854 - val_loss: 36397464.0000 - val_mae: 2119.7847\n",
      "Epoch 5/50\n",
      "\u001b[1m5106/5106\u001b[0m \u001b[32m━━━━━━━━━━━━━━━━━━━━\u001b[0m\u001b[37m\u001b[0m \u001b[1m38s\u001b[0m 7ms/step - loss: 48605496.0000 - mae: 2792.9233 - val_loss: 35920152.0000 - val_mae: 2125.7710\n",
      "Epoch 6/50\n",
      "\u001b[1m5106/5106\u001b[0m \u001b[32m━━━━━━━━━━━━━━━━━━━━\u001b[0m\u001b[37m\u001b[0m \u001b[1m40s\u001b[0m 8ms/step - loss: 51608240.0000 - mae: 2798.8281 - val_loss: 35705380.0000 - val_mae: 2090.7727\n",
      "Epoch 7/50\n",
      "\u001b[1m5106/5106\u001b[0m \u001b[32m━━━━━━━━━━━━━━━━━━━━\u001b[0m\u001b[37m\u001b[0m \u001b[1m20s\u001b[0m 4ms/step - loss: 52882392.0000 - mae: 2796.0552 - val_loss: 35810124.0000 - val_mae: 2158.9653\n",
      "Epoch 8/50\n",
      "\u001b[1m5106/5106\u001b[0m \u001b[32m━━━━━━━━━━━━━━━━━━━━\u001b[0m\u001b[37m\u001b[0m \u001b[1m14s\u001b[0m 3ms/step - loss: 50120048.0000 - mae: 2806.5176 - val_loss: 35384944.0000 - val_mae: 2111.1345\n",
      "Epoch 9/50\n",
      "\u001b[1m5106/5106\u001b[0m \u001b[32m━━━━━━━━━━━━━━━━━━━━\u001b[0m\u001b[37m\u001b[0m \u001b[1m14s\u001b[0m 3ms/step - loss: 53372976.0000 - mae: 2794.2009 - val_loss: 35133292.0000 - val_mae: 2081.3479\n",
      "Epoch 10/50\n",
      "\u001b[1m5106/5106\u001b[0m \u001b[32m━━━━━━━━━━━━━━━━━━━━\u001b[0m\u001b[37m\u001b[0m \u001b[1m14s\u001b[0m 3ms/step - loss: 54033724.0000 - mae: 2803.3093 - val_loss: 35592216.0000 - val_mae: 2151.7080\n",
      "Epoch 11/50\n",
      "\u001b[1m5106/5106\u001b[0m \u001b[32m━━━━━━━━━━━━━━━━━━━━\u001b[0m\u001b[37m\u001b[0m \u001b[1m14s\u001b[0m 3ms/step - loss: 52308288.0000 - mae: 2789.2175 - val_loss: 34792692.0000 - val_mae: 2130.3611\n",
      "Epoch 12/50\n",
      "\u001b[1m5106/5106\u001b[0m \u001b[32m━━━━━━━━━━━━━━━━━━━━\u001b[0m\u001b[37m\u001b[0m \u001b[1m14s\u001b[0m 3ms/step - loss: 54186120.0000 - mae: 2786.7356 - val_loss: 34568616.0000 - val_mae: 2087.7249\n",
      "Epoch 13/50\n",
      "\u001b[1m5106/5106\u001b[0m \u001b[32m━━━━━━━━━━━━━━━━━━━━\u001b[0m\u001b[37m\u001b[0m \u001b[1m14s\u001b[0m 3ms/step - loss: 44748032.0000 - mae: 2753.4783 - val_loss: 36059744.0000 - val_mae: 2219.9451\n",
      "Epoch 14/50\n",
      "\u001b[1m5106/5106\u001b[0m \u001b[32m━━━━━━━━━━━━━━━━━━━━\u001b[0m\u001b[37m\u001b[0m \u001b[1m14s\u001b[0m 3ms/step - loss: 46844736.0000 - mae: 2758.9268 - val_loss: 34541056.0000 - val_mae: 2112.1675\n",
      "Epoch 15/50\n",
      "\u001b[1m5106/5106\u001b[0m \u001b[32m━━━━━━━━━━━━━━━━━━━━\u001b[0m\u001b[37m\u001b[0m \u001b[1m14s\u001b[0m 3ms/step - loss: 47508516.0000 - mae: 2760.7524 - val_loss: 34132952.0000 - val_mae: 2086.9663\n",
      "Epoch 16/50\n",
      "\u001b[1m5106/5106\u001b[0m \u001b[32m━━━━━━━━━━━━━━━━━━━━\u001b[0m\u001b[37m\u001b[0m \u001b[1m14s\u001b[0m 3ms/step - loss: 47410324.0000 - mae: 2734.8799 - val_loss: 33907456.0000 - val_mae: 2090.2871\n",
      "Epoch 17/50\n",
      "\u001b[1m5106/5106\u001b[0m \u001b[32m━━━━━━━━━━━━━━━━━━━━\u001b[0m\u001b[37m\u001b[0m \u001b[1m14s\u001b[0m 3ms/step - loss: 49098356.0000 - mae: 2763.3586 - val_loss: 33828904.0000 - val_mae: 2067.4182\n",
      "Epoch 18/50\n",
      "\u001b[1m5106/5106\u001b[0m \u001b[32m━━━━━━━━━━━━━━━━━━━━\u001b[0m\u001b[37m\u001b[0m \u001b[1m14s\u001b[0m 3ms/step - loss: 50713824.0000 - mae: 2742.4653 - val_loss: 34025132.0000 - val_mae: 2077.7212\n",
      "Epoch 19/50\n",
      "\u001b[1m5106/5106\u001b[0m \u001b[32m━━━━━━━━━━━━━━━━━━━━\u001b[0m\u001b[37m\u001b[0m \u001b[1m14s\u001b[0m 3ms/step - loss: 50249080.0000 - mae: 2774.0637 - val_loss: 34120684.0000 - val_mae: 2057.9685\n",
      "Epoch 20/50\n",
      "\u001b[1m5106/5106\u001b[0m \u001b[32m━━━━━━━━━━━━━━━━━━━━\u001b[0m\u001b[37m\u001b[0m \u001b[1m14s\u001b[0m 3ms/step - loss: 48835884.0000 - mae: 2753.1516 - val_loss: 33691028.0000 - val_mae: 2081.9287\n",
      "Epoch 21/50\n",
      "\u001b[1m5106/5106\u001b[0m \u001b[32m━━━━━━━━━━━━━━━━━━━━\u001b[0m\u001b[37m\u001b[0m \u001b[1m14s\u001b[0m 3ms/step - loss: 45786916.0000 - mae: 2732.1770 - val_loss: 33449972.0000 - val_mae: 2108.2581\n",
      "Epoch 22/50\n",
      "\u001b[1m5106/5106\u001b[0m \u001b[32m━━━━━━━━━━━━━━━━━━━━\u001b[0m\u001b[37m\u001b[0m \u001b[1m14s\u001b[0m 3ms/step - loss: 48261884.0000 - mae: 2747.9180 - val_loss: 34141344.0000 - val_mae: 2108.7969\n",
      "Epoch 23/50\n",
      "\u001b[1m5106/5106\u001b[0m \u001b[32m━━━━━━━━━━━━━━━━━━━━\u001b[0m\u001b[37m\u001b[0m \u001b[1m14s\u001b[0m 3ms/step - loss: 46025840.0000 - mae: 2728.6497 - val_loss: 33284602.0000 - val_mae: 2056.0974\n",
      "Epoch 24/50\n",
      "\u001b[1m5106/5106\u001b[0m \u001b[32m━━━━━━━━━━━━━━━━━━━━\u001b[0m\u001b[37m\u001b[0m \u001b[1m14s\u001b[0m 3ms/step - loss: 51604064.0000 - mae: 2763.4570 - val_loss: 36221680.0000 - val_mae: 2243.2527\n",
      "Epoch 25/50\n",
      "\u001b[1m5106/5106\u001b[0m \u001b[32m━━━━━━━━━━━━━━━━━━━━\u001b[0m\u001b[37m\u001b[0m \u001b[1m14s\u001b[0m 3ms/step - loss: 48656164.0000 - mae: 2748.3059 - val_loss: 33591492.0000 - val_mae: 2082.6575\n",
      "Epoch 26/50\n",
      "\u001b[1m5106/5106\u001b[0m \u001b[32m━━━━━━━━━━━━━━━━━━━━\u001b[0m\u001b[37m\u001b[0m \u001b[1m14s\u001b[0m 3ms/step - loss: 48206772.0000 - mae: 2734.0916 - val_loss: 33316070.0000 - val_mae: 2072.3645\n",
      "Epoch 27/50\n",
      "\u001b[1m5106/5106\u001b[0m \u001b[32m━━━━━━━━━━━━━━━━━━━━\u001b[0m\u001b[37m\u001b[0m \u001b[1m14s\u001b[0m 3ms/step - loss: 48855056.0000 - mae: 2756.6655 - val_loss: 33979764.0000 - val_mae: 2085.2886\n",
      "Epoch 28/50\n",
      "\u001b[1m5106/5106\u001b[0m \u001b[32m━━━━━━━━━━━━━━━━━━━━\u001b[0m\u001b[37m\u001b[0m \u001b[1m14s\u001b[0m 3ms/step - loss: 47185612.0000 - mae: 2731.7310 - val_loss: 33259096.0000 - val_mae: 2059.2341\n",
      "Epoch 29/50\n",
      "\u001b[1m5106/5106\u001b[0m \u001b[32m━━━━━━━━━━━━━━━━━━━━\u001b[0m\u001b[37m\u001b[0m \u001b[1m14s\u001b[0m 3ms/step - loss: 52466772.0000 - mae: 2786.0750 - val_loss: 33458760.0000 - val_mae: 2066.2175\n",
      "Epoch 30/50\n",
      "\u001b[1m5106/5106\u001b[0m \u001b[32m━━━━━━━━━━━━━━━━━━━━\u001b[0m\u001b[37m\u001b[0m \u001b[1m21s\u001b[0m 3ms/step - loss: 45529116.0000 - mae: 2728.1023 - val_loss: 34766960.0000 - val_mae: 2160.2395\n",
      "Epoch 31/50\n",
      "\u001b[1m5106/5106\u001b[0m \u001b[32m━━━━━━━━━━━━━━━━━━━━\u001b[0m\u001b[37m\u001b[0m \u001b[1m20s\u001b[0m 3ms/step - loss: 46257176.0000 - mae: 2746.4348 - val_loss: 33468874.0000 - val_mae: 2094.5432\n",
      "Epoch 32/50\n",
      "\u001b[1m5106/5106\u001b[0m \u001b[32m━━━━━━━━━━━━━━━━━━━━\u001b[0m\u001b[37m\u001b[0m \u001b[1m14s\u001b[0m 3ms/step - loss: 47629688.0000 - mae: 2724.0122 - val_loss: 33790464.0000 - val_mae: 2149.9172\n",
      "Epoch 33/50\n",
      "\u001b[1m5106/5106\u001b[0m \u001b[32m━━━━━━━━━━━━━━━━━━━━\u001b[0m\u001b[37m\u001b[0m \u001b[1m13s\u001b[0m 3ms/step - loss: 44522644.0000 - mae: 2715.5847 - val_loss: 34613196.0000 - val_mae: 2132.4866\n",
      "Epoch 34/50\n",
      "\u001b[1m5106/5106\u001b[0m \u001b[32m━━━━━━━━━━━━━━━━━━━━\u001b[0m\u001b[37m\u001b[0m \u001b[1m14s\u001b[0m 3ms/step - loss: 46930708.0000 - mae: 2731.0181 - val_loss: 34553056.0000 - val_mae: 2133.2681\n",
      "Epoch 35/50\n",
      "\u001b[1m5106/5106\u001b[0m \u001b[32m━━━━━━━━━━━━━━━━━━━━\u001b[0m\u001b[37m\u001b[0m \u001b[1m14s\u001b[0m 3ms/step - loss: 48774632.0000 - mae: 2734.9539 - val_loss: 33202866.0000 - val_mae: 2088.2065\n",
      "Epoch 36/50\n",
      "\u001b[1m5106/5106\u001b[0m \u001b[32m━━━━━━━━━━━━━━━━━━━━\u001b[0m\u001b[37m\u001b[0m \u001b[1m14s\u001b[0m 3ms/step - loss: 46427284.0000 - mae: 2725.8987 - val_loss: 35186512.0000 - val_mae: 2178.7041\n",
      "Epoch 37/50\n",
      "\u001b[1m5106/5106\u001b[0m \u001b[32m━━━━━━━━━━━━━━━━━━━━\u001b[0m\u001b[37m\u001b[0m \u001b[1m14s\u001b[0m 3ms/step - loss: 48523248.0000 - mae: 2741.1892 - val_loss: 33597868.0000 - val_mae: 2088.9080\n",
      "Epoch 38/50\n",
      "\u001b[1m5106/5106\u001b[0m \u001b[32m━━━━━━━━━━━━━━━━━━━━\u001b[0m\u001b[37m\u001b[0m \u001b[1m20s\u001b[0m 3ms/step - loss: 45175684.0000 - mae: 2720.7627 - val_loss: 33860940.0000 - val_mae: 2111.9321\n",
      "Epoch 39/50\n",
      "\u001b[1m5106/5106\u001b[0m \u001b[32m━━━━━━━━━━━━━━━━━━━━\u001b[0m\u001b[37m\u001b[0m \u001b[1m14s\u001b[0m 3ms/step - loss: 49036876.0000 - mae: 2712.2986 - val_loss: 32599440.0000 - val_mae: 2062.4126\n",
      "Epoch 40/50\n",
      "\u001b[1m5106/5106\u001b[0m \u001b[32m━━━━━━━━━━━━━━━━━━━━\u001b[0m\u001b[37m\u001b[0m \u001b[1m13s\u001b[0m 3ms/step - loss: 46873092.0000 - mae: 2683.5979 - val_loss: 38804576.0000 - val_mae: 2366.9287\n",
      "Epoch 41/50\n",
      "\u001b[1m5106/5106\u001b[0m \u001b[32m━━━━━━━━━━━━━━━━━━━━\u001b[0m\u001b[37m\u001b[0m \u001b[1m14s\u001b[0m 3ms/step - loss: 43774284.0000 - mae: 2677.5938 - val_loss: 33933484.0000 - val_mae: 2148.8640\n",
      "Epoch 42/50\n",
      "\u001b[1m5106/5106\u001b[0m \u001b[32m━━━━━━━━━━━━━━━━━━━━\u001b[0m\u001b[37m\u001b[0m \u001b[1m14s\u001b[0m 3ms/step - loss: 48284724.0000 - mae: 2703.3821 - val_loss: 36863780.0000 - val_mae: 2328.2761\n",
      "Epoch 43/50\n",
      "\u001b[1m5106/5106\u001b[0m \u001b[32m━━━━━━━━━━━━━━━━━━━━\u001b[0m\u001b[37m\u001b[0m \u001b[1m14s\u001b[0m 3ms/step - loss: 44789856.0000 - mae: 2639.3020 - val_loss: 35949296.0000 - val_mae: 2276.9829\n",
      "Epoch 44/50\n",
      "\u001b[1m5106/5106\u001b[0m \u001b[32m━━━━━━━━━━━━━━━━━━━━\u001b[0m\u001b[37m\u001b[0m \u001b[1m14s\u001b[0m 3ms/step - loss: 46547940.0000 - mae: 2646.9084 - val_loss: 42737936.0000 - val_mae: 2642.3931\n",
      "Epoch 45/50\n",
      "\u001b[1m5106/5106\u001b[0m \u001b[32m━━━━━━━━━━━━━━━━━━━━\u001b[0m\u001b[37m\u001b[0m \u001b[1m13s\u001b[0m 3ms/step - loss: 46056684.0000 - mae: 2610.9871 - val_loss: 40370332.0000 - val_mae: 2524.4670\n",
      "Epoch 46/50\n",
      "\u001b[1m5106/5106\u001b[0m \u001b[32m━━━━━━━━━━━━━━━━━━━━\u001b[0m\u001b[37m\u001b[0m \u001b[1m14s\u001b[0m 3ms/step - loss: 44404060.0000 - mae: 2609.6453 - val_loss: 51009380.0000 - val_mae: 3090.9316\n",
      "Epoch 47/50\n",
      "\u001b[1m5106/5106\u001b[0m \u001b[32m━━━━━━━━━━━━━━━━━━━━\u001b[0m\u001b[37m\u001b[0m \u001b[1m14s\u001b[0m 3ms/step - loss: 47951228.0000 - mae: 2607.9458 - val_loss: 44214616.0000 - val_mae: 2813.5884\n",
      "Epoch 48/50\n",
      "\u001b[1m5106/5106\u001b[0m \u001b[32m━━━━━━━━━━━━━━━━━━━━\u001b[0m\u001b[37m\u001b[0m \u001b[1m20s\u001b[0m 3ms/step - loss: 48085788.0000 - mae: 2609.7893 - val_loss: 50602220.0000 - val_mae: 3159.9072\n",
      "Epoch 49/50\n",
      "\u001b[1m5106/5106\u001b[0m \u001b[32m━━━━━━━━━━━━━━━━━━━━\u001b[0m\u001b[37m\u001b[0m \u001b[1m14s\u001b[0m 3ms/step - loss: 42574244.0000 - mae: 2536.7742 - val_loss: 49560688.0000 - val_mae: 3041.5752\n",
      "Epoch 50/50\n",
      "\u001b[1m5106/5106\u001b[0m \u001b[32m━━━━━━━━━━━━━━━━━━━━\u001b[0m\u001b[37m\u001b[0m \u001b[1m14s\u001b[0m 3ms/step - loss: 52199460.0000 - mae: 2576.7241 - val_loss: 48927128.0000 - val_mae: 3159.1675\n"
     ]
    }
   ],
   "source": [
    "#Train the Model\n",
    "history = model.fit(X_train_scaled, y_train, \n",
    "                    validation_data=(X_test_scaled, y_test),\n",
    "                    epochs=50, batch_size=64, verbose=1)\n"
   ]
  },
  {
   "cell_type": "code",
   "execution_count": 9,
   "id": "00f86c5e",
   "metadata": {},
   "outputs": [
    {
     "name": "stdout",
     "output_type": "stream",
     "text": [
      "\u001b[1m2553/2553\u001b[0m \u001b[32m━━━━━━━━━━━━━━━━━━━━\u001b[0m\u001b[37m\u001b[0m \u001b[1m3s\u001b[0m 1ms/step\n",
      "MAE: 16081.80\n",
      "MSE: 774536018.52\n",
      "RMSE: 27830.49\n",
      "R² Score: -0.5013\n"
     ]
    }
   ],
   "source": [
    "#Evaluate the Model\n",
    "y_pred = model.predict(X_test_scaled)\n",
    "\n",
    "mae = mean_absolute_error(y_test, y_pred)\n",
    "mse = mean_squared_error(y_test, y_pred)\n",
    "rmse = np.sqrt(mse)\n",
    "r2 = r2_score(y_test, y_pred)\n",
    "\n",
    "print(f\"MAE: {mae:.2f}\")\n",
    "print(f\"MSE: {mse:.2f}\")\n",
    "print(f\"RMSE: {rmse:.2f}\")\n",
    "print(f\"R² Score: {r2:.4f}\")\n"
   ]
  },
  {
   "cell_type": "code",
   "execution_count": 10,
   "id": "a8050ba8",
   "metadata": {},
   "outputs": [
    {
     "name": "stderr",
     "output_type": "stream",
     "text": [
      "WARNING:absl:You are saving your model as an HDF5 file via `model.save()` or `keras.saving.save_model(model)`. This file format is considered legacy. We recommend using instead the native Keras format, e.g. `model.save('my_model.keras')` or `keras.saving.save_model(model, 'my_model.keras')`. \n"
     ]
    },
    {
     "data": {
      "text/plain": [
       "['../models/scaler.pkl']"
      ]
     },
     "execution_count": 10,
     "metadata": {},
     "output_type": "execute_result"
    }
   ],
   "source": [
    "#Save the Model and Scaler\n",
    "model.save(\"../models/retail_sales_ann_model.h5\")\n",
    "\n",
    "import joblib\n",
    "joblib.dump(scaler, \"../models/scaler.pkl\")\n"
   ]
  }
 ],
 "metadata": {
  "kernelspec": {
   "display_name": "Python 3",
   "language": "python",
   "name": "python3"
  },
  "language_info": {
   "codemirror_mode": {
    "name": "ipython",
    "version": 3
   },
   "file_extension": ".py",
   "mimetype": "text/x-python",
   "name": "python",
   "nbconvert_exporter": "python",
   "pygments_lexer": "ipython3",
   "version": "3.10.0"
  }
 },
 "nbformat": 4,
 "nbformat_minor": 5
}
