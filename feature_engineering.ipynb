{
 "cells": [
  {
   "cell_type": "code",
   "execution_count": 1,
   "id": "04b99463",
   "metadata": {},
   "outputs": [],
   "source": [
    "import pandas as pd\n",
    "import numpy as np\n",
    "\n",
    "# Load cleaned data\n",
    "df = pd.read_csv(\"../data/processed_data/cleaned_data.csv\")\n",
    "\n",
    "# Ensure Date column is datetime\n",
    "df['Date'] = pd.to_datetime(df['Date'])\n",
    "\n",
    "# Sort values by Store, Dept, Date for lag creation\n",
    "df.sort_values(by=['Store', 'Dept', 'Date'], inplace=True)\n"
   ]
  },
  {
   "cell_type": "code",
   "execution_count": 2,
   "id": "87ea1244",
   "metadata": {},
   "outputs": [],
   "source": [
    "#Create Time-based Features\n",
    "# Extract useful date parts\n",
    "df['Year'] = df['Date'].dt.year\n",
    "df['Month'] = df['Date'].dt.month\n",
    "df['Week'] = df['Date'].dt.isocalendar().week\n",
    "df['Day'] = df['Date'].dt.day\n",
    "df['DayOfWeek'] = df['Date'].dt.dayofweek  # Monday=0, Sunday=6\n",
    "df['IsWeekend'] = df['DayOfWeek'].isin([5, 6]).astype(int)\n"
   ]
  },
  {
   "cell_type": "code",
   "execution_count": 5,
   "id": "43bb6b11",
   "metadata": {},
   "outputs": [],
   "source": [
    "# Lag sales by 1 and 2 weeks\n",
    "df['Lag_1'] = df.groupby(['Store', 'Dept'])['Weekly_Sales'].shift(1)\n",
    "df['Lag_2'] = df.groupby(['Store', 'Dept'])['Weekly_Sales'].shift(2)\n",
    "df.dropna(inplace=True)\n"
   ]
  },
  {
   "cell_type": "code",
   "execution_count": 6,
   "id": "96bea96d",
   "metadata": {},
   "outputs": [],
   "source": [
    "#Interaction Features\n",
    "markdown_cols = ['MarkDown1', 'MarkDown2', 'MarkDown3', 'MarkDown4', 'MarkDown5']\n",
    "\n",
    "for col in markdown_cols:\n",
    "    df[f'{col}_holiday'] = df[col] * df['IsHoliday_x']\n"
   ]
  },
  {
   "cell_type": "code",
   "execution_count": 7,
   "id": "ac6ad8d0",
   "metadata": {},
   "outputs": [],
   "source": [
    "#Encode Categorical Variables\n",
    "# One-hot encode 'Type'\n",
    "df = pd.get_dummies(df, columns=['Type'], drop_first=True)\n"
   ]
  },
  {
   "cell_type": "code",
   "execution_count": 8,
   "id": "7e8f0da0",
   "metadata": {},
   "outputs": [
    {
     "name": "stdout",
     "output_type": "stream",
     "text": [
      "Featured dataset saved.\n"
     ]
    }
   ],
   "source": [
    "# Save the final feature-rich dataset\n",
    "df.to_csv(\"../data/processed_data/featured_data.csv\", index=False)\n",
    "print(\"Featured dataset saved.\")\n"
   ]
  }
 ],
 "metadata": {
  "kernelspec": {
   "display_name": "Python 3",
   "language": "python",
   "name": "python3"
  },
  "language_info": {
   "codemirror_mode": {
    "name": "ipython",
    "version": 3
   },
   "file_extension": ".py",
   "mimetype": "text/x-python",
   "name": "python",
   "nbconvert_exporter": "python",
   "pygments_lexer": "ipython3",
   "version": "3.10.0"
  }
 },
 "nbformat": 4,
 "nbformat_minor": 5
}
